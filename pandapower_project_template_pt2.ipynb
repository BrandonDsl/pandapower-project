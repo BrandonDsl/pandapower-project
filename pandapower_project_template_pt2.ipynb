{
 "cells": [
  {
   "cell_type": "markdown",
   "metadata": {},
   "source": [
    "<hr style=\"color:#4f7682;\">\n",
    "<p align=\"center\">\n",
    "    <b style=\"font-size:2.1vw; color:#4f7682; font-weight:bold;\">\n",
    "    Analysis of electric power & energy systems - PandaPower Project\n",
    "    </b>\n",
    "</p>\n",
    "<hr style=\"color:#4f7682;\">\n",
    "<br>\n",
    "<b style=\"font-size:1.2vw; color:#4f7682; font-weight:bold;\"> Introduction</b><br>\n",
    "\n",
    "The purpose of this project is to help you better understand the concepts seen during the course by illustrating them with a power flow tool and to introduce some applications of power flow calculations for power system operation and planning. \n",
    "\n",
    "For this assignment, you will use the Python library called <b>pandapower</b>. Documentations about this library can be found here: <a href=\"https://pandapower.readthedocs.io/en/v2.4.0/\">pandapower documentations</a><url>. We also encourage you to check out the pandapower channel on YouTube for video tutorials: <a href=\"https://www.youtube.com/@pandapowerorg/videos\">pandapower channel</a><url>.\n",
    "\n",
    "The assignment must be carried out by group of <b>three students</b>. Each group will receive a zip file containing the statement of the assignment, a python notebook to fill in and the json file containing the data for the test network. When finished, the assignment must be submitted as a <b>zip file</b> on eCampus in the Assignments section before <b>Friday, December 8, 23:59</b>. The zip file must contain a report in pdf format describing your results and analyses as well as the python notebook you completed for the assignment. The name of the zip file must be a concatenation of the last names of the three persons belonging to the group (LASTNAME1_LASTNAME2_LASTNAME3.zip). \n",
    "\n",
    "You will also have to present your project. Information about the presentation will be provided later.\n",
    "Note that attention will be paid to how you present your results. Careful thoughts in particular - but not limited to - should be given when it comes to plots. For each question, you are given expectations about the format and the length of the answer.\n",
    "<br><br>\n",
    "<b>Authors</b><br>\n",
    "<i>Manon Cornet</i> and <i>Antonin Colot</i>"
   ]
  },
  {
   "cell_type": "markdown",
   "metadata": {},
   "source": [
    "<b style=\"font-size:1.2vw; color:#4f7682; font-weight:bold;\"> Questions</b><br>\n",
    "\n",
    "The assignment is divided in two parts. Along the assignment, we consider a <b> modified version of the Nordic test system </b> (see Figure 1 [1] for the original Nordic test system and Figure 2 [2] for the modified version you are provided). The json (or pickle) file containing the data of the modified network is located in the network_data folder of the zip file you received. To load the network in pandapower, you should use the following command line:\n",
    "\n",
    "<code>net = pandapower.from_json(\"network_data/case60nordic.json\")</code> (or <code>net = pandapower.from_pickle(\"network_data/case60nordic.p\")</code>)\n",
    "\n",
    "<br><br>\n",
    "\n",
    "<p align=\"left\">\n",
    "     &nbsp;&nbsp;&nbsp;&nbsp;&nbsp;&nbsp;&nbsp;&nbsp;&nbsp;&nbsp;&nbsp;&nbsp;&nbsp;&nbsp;&nbsp;&nbsp;&nbsp;&nbsp;&nbsp;&nbsp;&nbsp;&nbsp;&nbsp;&nbsp;&nbsp;&nbsp;&nbsp;&nbsp;&nbsp;&nbsp; <b>Figure 1</b> \n",
    "     &nbsp;&nbsp;&nbsp;&nbsp;&nbsp;&nbsp;&nbsp;&nbsp;&nbsp;&nbsp;&nbsp;&nbsp;&nbsp;&nbsp;&nbsp;&nbsp;&nbsp;&nbsp;&nbsp;&nbsp;&nbsp;&nbsp;&nbsp;&nbsp;&nbsp;&nbsp;&nbsp;&nbsp;&nbsp;&nbsp;&nbsp;&nbsp;&nbsp;&nbsp;&nbsp;&nbsp;&nbsp;&nbsp;&nbsp;&nbsp;&nbsp;&nbsp;&nbsp;&nbsp;&nbsp;&nbsp;&nbsp;&nbsp;&nbsp;&nbsp;&nbsp;&nbsp;&nbsp;&nbsp;&nbsp;&nbsp;&nbsp;&nbsp;&nbsp;&nbsp;&nbsp;&nbsp;&nbsp;&nbsp;&nbsp;&nbsp;&nbsp;&nbsp;&nbsp;&nbsp;&nbsp;&nbsp;  \n",
    "     <b>Figure 2</b>\n",
    "</p>\n",
    "\n",
    "<p align=\"left\">\n",
    "     <img src=\"assets/nordic_system.png\" width=\"300\" height=\"450\"/>\n",
    "     &nbsp; &nbsp; &nbsp; &nbsp;\n",
    "     <img src=\"assets/NordicOneLineDiag.png\" width=\"300\" height=\"450\"/>\n",
    "</p>\n",
    "\n",
    "<b>References</b><br>\n",
    "<i>[1] Test Systems for Voltage Stability Analysis and Security Assessment, Technical Report PES-TR19. IEEE Power & Energy Society. August 2015.</i><br>\n",
    "<i>[2] Figure provied by Dr. Mevludin Galvic. November 2023.</i>"
   ]
  },
  {
   "cell_type": "markdown",
   "metadata": {},
   "source": [
    "[comment]: <> (Part)\n",
    "<hr style=\"color:#4f7682;\">\n",
    "<p align=\"center\">\n",
    "    <b style=\"font-size:1.5vw; color:#4f7682;\">\n",
    "    Part 2\n",
    "    </b>\n",
    "</p>\n",
    "<hr style=\"color:#4f7682;\">\n",
    "\n",
    "[comment]: <> (Description)\n",
    "<p align=\"justify\">\n",
    "    In this part, the Nordic test system in Figure 2 is used but the load and generator data are different for each group. When you have your group, send an email to mcornet@uliege.be to receive your data, which consist of several csv documents describing the load active and reactive powers and the generator active powers and voltage magnitudes along the 24 hours of one day.<br>\n",
    "    <b>Expected: <i>maximum 5 pages, including figures.</i></b>\n"
   ]
  },
  {
   "cell_type": "code",
   "execution_count": null,
   "metadata": {},
   "outputs": [],
   "source": [
    "# -- IMPORT PACKAGES --\n",
    "\n",
    "import pandas as pd\n",
    "import pandapower as pp\n",
    "import pandapower.control as control\n",
    "import pandapower.timeseries as timeseries\n",
    "from pandapower.timeseries.data_sources.frame_data import DFData"
   ]
  },
  {
   "cell_type": "markdown",
   "metadata": {},
   "source": [
    "[comment]: <> (Question)\n",
    "<p align=\"left\">\n",
    "    <b style=\"font-size:1.2vw; color:#4f7682;\">\n",
    "    Question 1\n",
    "    </b>\n",
    "</p>\n",
    "<hr style=\"color:#4f7682;\">\n",
    "\n",
    "[comment]: <> (Description)\n",
    "<p align=\"justify\">\n",
    "    Use the pandapower Timeseries module (read the documentation at the link: <a href=\"https://pandapower.readthedocs.io/en/v2.2.2/timeseries.html\">pandapower timeseries module documentation</a><url>) to run a power flow across 24 time steps. Investigate the variations in voltage magnitudes at the buses and line loadings within the network. Identify and justify the hour you consider the most critical. Employ visually compelling plots to reinforce your analysis and choice. Be creative with your plots!"
   ]
  },
  {
   "cell_type": "code",
   "execution_count": null,
   "metadata": {},
   "outputs": [],
   "source": [
    "# -- TODO: enter the name of your group, example: group_name = 'group1' -- "
   ]
  },
  {
   "cell_type": "code",
   "execution_count": null,
   "metadata": {},
   "outputs": [],
   "source": [
    "# -- READ TIMESERIES CSV FILES --\n",
    "\n",
    "# Import network\n",
    "net =  pp.from_json(\"network_data/case60nordic.json\")\n",
    "\n",
    "# Import PV buses data\n",
    "df_gen_p_mw = pd.read_csv(group_name+'/gen_power_'+group_name+'.csv')\n",
    "df_gen_p_mw = df_gen_p_mw.drop(df_gen_p_mw.columns[0], axis=1)\n",
    "ds_gen_p_mw = DFData(df_gen_p_mw)\n",
    "const_gen = control.ConstControl(net, element='gen', element_index=net.gen.index.sort_values(),\n",
    "                                  variable='p_mw', data_source=ds_gen_p_mw, profile_name=df_gen_p_mw.columns)\n",
    "\n",
    "df_gen_vm = pd.read_csv(group_name+'/gen_vm_'+group_name+'.csv')\n",
    "df_gen_vm = df_gen_vm.drop(df_gen_vm.columns[0], axis=1)\n",
    "ds_gen_vm = DFData(df_gen_vm)\n",
    "const_gen = control.ConstControl(net, element='gen', element_index=net.gen.index.sort_values(),\n",
    "                                  variable='vm_pu', data_source=ds_gen_vm, profile_name=df_gen_vm.columns)\n",
    "\n",
    "# Import PQ buses data\n",
    "df_load_p_mw = pd.read_csv(group_name+'/load_activepower_'+group_name+'.csv')\n",
    "df_load_p_mw = df_load_p_mw.drop(df_load_p_mw.columns[0], axis=1)\n",
    "ds_load_p_mw = DFData(df_load_p_mw)\n",
    "const_load_mw = control.ConstControl(net, element='load', element_index=net.load.index.sort_values(),\n",
    "                                  variable='p_mw', data_source=ds_load_p_mw, profile_name=df_load_p_mw.columns)\n",
    "\n",
    "df_load_q_mvar = pd.read_csv(group_name+'/load_reactivepower_'+group_name+'.csv')\n",
    "df_load_q_mvar = df_load_q_mvar.drop(df_load_q_mvar.columns[0], axis=1)\n",
    "ds_load_q_mvar = DFData(df_load_q_mvar)\n",
    "const_load_mvar = control.ConstControl(net, element='load', element_index=net.load.index.sort_values(),\n",
    "                                  variable='q_mvar', data_source=ds_load_q_mvar, profile_name=df_load_q_mvar.columns)"
   ]
  },
  {
   "cell_type": "code",
   "execution_count": null,
   "metadata": {},
   "outputs": [],
   "source": [
    "# -- TODO: Run time series and save results --\n",
    "\n",
    "# TODO: To get the time series calculation results and save it to separate files you need to build an OutputWriter.\n",
    "\n",
    "# TODO: Run timeseries simulations"
   ]
  },
  {
   "cell_type": "markdown",
   "metadata": {},
   "source": [
    "[comment]: <> (Question)\n",
    "<p align=\"left\">\n",
    "    <b style=\"font-size:1.2vw; color:#4f7682;\">\n",
    "    Question 2\n",
    "    </b>\n",
    "</p>\n",
    "<hr style=\"color:#4f7682;\">\n",
    "\n",
    "[comment]: <> (Description)\n",
    "<p align=\"justify\">\n",
    "    In power system analysis, the <b>load power margin</b> is an index that is used to assess how far a system is from a state with voltage instability. Mathematically, it is defined as the difference between the maximum active power that can be delivered to a load and the actual active power consumed by the load. <br> <br> \n",
    "    In this question, you are asked to compute the <b>load power margins</b> for each load within the network during the most critical hour, as determined in previous question.\n",
    "    What can you say about these <b>load power margins</b> ? Are you close to an unstable state in the system ?\n",
    "    Finally, identify the most critical loads — those with the potential to lead the system into an unstable state following a disturbance.\n",
    "    <br><br> \n",
    "    <i>Hint: Inspire yourself from Part 1 Q3 for computing the maximum power margin at a bus.<i>\n",
    "    <br><br>\n",
    "    <b>Expected: <i>One table showing the load power margin at each bus</i></b> "
   ]
  },
  {
   "cell_type": "code",
   "execution_count": null,
   "metadata": {},
   "outputs": [],
   "source": [
    "# -- TODO: Recover the data at the most critical hour --"
   ]
  },
  {
   "cell_type": "code",
   "execution_count": null,
   "metadata": {},
   "outputs": [],
   "source": [
    "# -- TODO: Compute the load power margins at each bus --"
   ]
  },
  {
   "cell_type": "markdown",
   "metadata": {},
   "source": [
    "[comment]: <> (Question)\n",
    "<p align=\"left\">\n",
    "    <b style=\"font-size:1.2vw; color:#4f7682;\">\n",
    "    Question 3\n",
    "    </b>\n",
    "</p>\n",
    "<hr style=\"color:#4f7682;\">\n",
    "\n",
    "[comment]: <> (Description)\n",
    "<p align=\"justify\">\n",
    "    Achieving Europe's goal of zero net carbon emissions by 2050 necessitates a shift towards electrification. This implies an increased share of electric heat pumps and electric vehicles connected to our networks. We can model this by an increase in the loads at each bus of the network. If we were to double the load at the bus you judged critical at previous question, what repercussions would ensue? <br><br>\n",
    "    Now, put you in the place of a network operator and try to provide a solution to mitigate this issue so that your network would become \"future proof\". Provide a compelling argument for why your proposed solution is the most effective in mitigating the challenges posed by this increased load. To test your solution, try to simulate some contingencies like the loss of a capacitor bank or a line and prove your solution allows to keep a stable state even when those events occur."
   ]
  },
  {
   "cell_type": "code",
   "execution_count": null,
   "metadata": {},
   "outputs": [],
   "source": [
    "# -- TODO: Recover the data at the most critical hour --"
   ]
  },
  {
   "cell_type": "code",
   "execution_count": null,
   "metadata": {},
   "outputs": [],
   "source": [
    "# -- TODO --"
   ]
  }
 ],
 "metadata": {
  "kernelspec": {
   "display_name": "Uliege",
   "language": "python",
   "name": "python3"
  },
  "language_info": {
   "codemirror_mode": {
    "name": "ipython",
    "version": 3
   },
   "file_extension": ".py",
   "mimetype": "text/x-python",
   "name": "python",
   "nbconvert_exporter": "python",
   "pygments_lexer": "ipython3",
   "version": "3.8.18"
  }
 },
 "nbformat": 4,
 "nbformat_minor": 2
}
